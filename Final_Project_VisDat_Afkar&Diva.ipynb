{
  "nbformat": 4,
  "nbformat_minor": 0,
  "metadata": {
    "colab": {
      "provenance": []
    },
    "kernelspec": {
      "name": "python3",
      "display_name": "Python 3"
    },
    "language_info": {
      "name": "python"
    }
  },
  "cells": [
    {
      "cell_type": "markdown",
      "source": [
        "#**Final Project Visualisasi Data - Kurs Mata Uang 5 Negara Terhadap US Dollar**\n",
        "\n",
        "Nama Anggota :\n",
        "1. Diva Annisa Febecca (1301204302)\n",
        "2. Afkar Arthagesang Pradestoan (1301200131)"
      ],
      "metadata": {
        "id": "MS1GJ_21wQg2"
      }
    },
    {
      "cell_type": "markdown",
      "source": [
        "**Import Library**"
      ],
      "metadata": {
        "id": "WLVG1bUjDM8a"
      }
    },
    {
      "cell_type": "code",
      "execution_count": 1,
      "metadata": {
        "id": "lWSRK9TmdMO_"
      },
      "outputs": [],
      "source": [
        "import pandas as pd\n",
        "import numpy as np\n",
        "\n",
        "# Bokeh Libraries\n",
        "from datetime import date\n",
        "from bokeh.io import curdoc\n",
        "from bokeh.models import HoverTool\n",
        "from bokeh.models.widgets import Tabs, Panel\n",
        "from bokeh.layouts import column, row, layout\n",
        "from bokeh.models.widgets import DateRangeSlider\n",
        "from bokeh.io import output_file, output_notebook\n",
        "from bokeh.models import ColumnDataSource, Legend\n",
        "from bokeh.plotting import figure, show, reset_output"
      ]
    },
    {
      "cell_type": "markdown",
      "source": [
        "**Resource**"
      ],
      "metadata": {
        "id": "LxOIBjnNDOkx"
      }
    },
    {
      "cell_type": "code",
      "source": [
        "!wget 'https://drive.google.com/uc?export=download&id=1-McuXVysoT1TEu3L8nybtZw7TxjhACpa' -O kurs.csv"
      ],
      "metadata": {
        "colab": {
          "base_uri": "https://localhost:8080/"
        },
        "id": "cbo5awgBpyPA",
        "outputId": "fd6f2903-2a45-407b-8609-e7c0f94f0207"
      },
      "execution_count": 2,
      "outputs": [
        {
          "output_type": "stream",
          "name": "stdout",
          "text": [
            "--2023-06-12 14:32:12--  https://drive.google.com/uc?export=download&id=1-McuXVysoT1TEu3L8nybtZw7TxjhACpa\n",
            "Resolving drive.google.com (drive.google.com)... 108.177.125.113, 108.177.125.101, 108.177.125.102, ...\n",
            "Connecting to drive.google.com (drive.google.com)|108.177.125.113|:443... connected.\n",
            "HTTP request sent, awaiting response... 303 See Other\n",
            "Location: https://doc-10-14-docs.googleusercontent.com/docs/securesc/ha0ro937gcuc7l7deffksulhg5h7mbp1/1fk6ku52vsol647555r1ibrlcubge080/1686580275000/00150260977202157621/*/1-McuXVysoT1TEu3L8nybtZw7TxjhACpa?e=download&uuid=9e6badc3-6f7c-4c86-befb-4430ecf6b395 [following]\n",
            "Warning: wildcards not supported in HTTP.\n",
            "--2023-06-12 14:32:13--  https://doc-10-14-docs.googleusercontent.com/docs/securesc/ha0ro937gcuc7l7deffksulhg5h7mbp1/1fk6ku52vsol647555r1ibrlcubge080/1686580275000/00150260977202157621/*/1-McuXVysoT1TEu3L8nybtZw7TxjhACpa?e=download&uuid=9e6badc3-6f7c-4c86-befb-4430ecf6b395\n",
            "Resolving doc-10-14-docs.googleusercontent.com (doc-10-14-docs.googleusercontent.com)... 74.125.204.132, 2404:6800:4008:c04::84\n",
            "Connecting to doc-10-14-docs.googleusercontent.com (doc-10-14-docs.googleusercontent.com)|74.125.204.132|:443... connected.\n",
            "HTTP request sent, awaiting response... 200 OK\n",
            "Length: 1785624 (1.7M) [text/csv]\n",
            "Saving to: ‘kurs.csv’\n",
            "\n",
            "kurs.csv            100%[===================>]   1.70M  --.-KB/s    in 0.01s   \n",
            "\n",
            "2023-06-12 14:32:13 (135 MB/s) - ‘kurs.csv’ saved [1785624/1785624]\n",
            "\n"
          ]
        }
      ]
    },
    {
      "cell_type": "code",
      "source": [
        "df = pd.read_csv(\"kurs.csv\", parse_dates = [\"Date\"])\n",
        "df.tail(5)"
      ],
      "metadata": {
        "colab": {
          "base_uri": "https://localhost:8080/",
          "height": 439
        },
        "id": "NOLOdBggwdtS",
        "outputId": "b381988f-77fc-4fd4-e9f0-716548394801"
      },
      "execution_count": 3,
      "outputs": [
        {
          "output_type": "execute_result",
          "data": {
            "text/plain": [
              "           Date  Algerian Dinar  Australian Dollar  Bahrain Dinar  \\\n",
              "5973 2018-04-26        114.8506             0.7574          0.376   \n",
              "5974 2018-04-27        115.0604             0.7545          0.376   \n",
              "5975 2018-04-30        114.8873             0.7570          0.376   \n",
              "5976 2018-05-01             NaN             0.7540          0.376   \n",
              "5977 2018-05-02             NaN                NaN          0.376   \n",
              "\n",
              "      Bolivar Fuerte  Botswana Pula  Brazilian Real  Brunei Dollar  \\\n",
              "5973      66770.1562         0.1023          3.4971         1.3274   \n",
              "5974      66770.1562         0.1020          3.4670         1.3269   \n",
              "5975      68827.5000         0.1023          3.4805         1.3238   \n",
              "5976             NaN            NaN             NaN            NaN   \n",
              "5977             NaN            NaN             NaN            NaN   \n",
              "\n",
              "      Canadian Dollar  Chilean Peso  ...  South African Rand  Sri Lanka Rupee  \\\n",
              "5973           1.2862        603.31  ...            12.40640         157.4628   \n",
              "5974              NaN        603.31  ...                 NaN         157.6459   \n",
              "5975           1.2836        605.74  ...            12.43145         157.6459   \n",
              "5976              NaN        610.98  ...                 NaN         157.4737   \n",
              "5977              NaN           NaN  ...            12.61265              NaN   \n",
              "\n",
              "      Swedish Krona  Swiss Franc  Thai Baht  Trinidad And Tobago Dollar  \\\n",
              "5973         8.5481       0.9835     31.595                      6.7842   \n",
              "5974         8.6911       0.9907     31.617                      6.7572   \n",
              "5975         8.6774       0.9894     31.510                      6.7393   \n",
              "5976            NaN          NaN        NaN                      6.7385   \n",
              "5977            NaN          NaN        NaN                         NaN   \n",
              "\n",
              "      Tunisian Dinar  U.A.E. Dirham  U.K. Pound Sterling  U.S. Dollar  \n",
              "5973         2.42955         3.6725              1.39655          1.0  \n",
              "5974         2.43120         3.6725              1.37685          1.0  \n",
              "5975         2.43190         3.6725              1.37250          1.0  \n",
              "5976             NaN         3.6725              1.36945          1.0  \n",
              "5977             NaN         3.6725              1.36535          1.0  \n",
              "\n",
              "[5 rows x 52 columns]"
            ],
            "text/html": [
              "\n",
              "  <div id=\"df-78b06847-8469-4814-b496-8b48e7649382\">\n",
              "    <div class=\"colab-df-container\">\n",
              "      <div>\n",
              "<style scoped>\n",
              "    .dataframe tbody tr th:only-of-type {\n",
              "        vertical-align: middle;\n",
              "    }\n",
              "\n",
              "    .dataframe tbody tr th {\n",
              "        vertical-align: top;\n",
              "    }\n",
              "\n",
              "    .dataframe thead th {\n",
              "        text-align: right;\n",
              "    }\n",
              "</style>\n",
              "<table border=\"1\" class=\"dataframe\">\n",
              "  <thead>\n",
              "    <tr style=\"text-align: right;\">\n",
              "      <th></th>\n",
              "      <th>Date</th>\n",
              "      <th>Algerian Dinar</th>\n",
              "      <th>Australian Dollar</th>\n",
              "      <th>Bahrain Dinar</th>\n",
              "      <th>Bolivar Fuerte</th>\n",
              "      <th>Botswana Pula</th>\n",
              "      <th>Brazilian Real</th>\n",
              "      <th>Brunei Dollar</th>\n",
              "      <th>Canadian Dollar</th>\n",
              "      <th>Chilean Peso</th>\n",
              "      <th>...</th>\n",
              "      <th>South African Rand</th>\n",
              "      <th>Sri Lanka Rupee</th>\n",
              "      <th>Swedish Krona</th>\n",
              "      <th>Swiss Franc</th>\n",
              "      <th>Thai Baht</th>\n",
              "      <th>Trinidad And Tobago Dollar</th>\n",
              "      <th>Tunisian Dinar</th>\n",
              "      <th>U.A.E. Dirham</th>\n",
              "      <th>U.K. Pound Sterling</th>\n",
              "      <th>U.S. Dollar</th>\n",
              "    </tr>\n",
              "  </thead>\n",
              "  <tbody>\n",
              "    <tr>\n",
              "      <th>5973</th>\n",
              "      <td>2018-04-26</td>\n",
              "      <td>114.8506</td>\n",
              "      <td>0.7574</td>\n",
              "      <td>0.376</td>\n",
              "      <td>66770.1562</td>\n",
              "      <td>0.1023</td>\n",
              "      <td>3.4971</td>\n",
              "      <td>1.3274</td>\n",
              "      <td>1.2862</td>\n",
              "      <td>603.31</td>\n",
              "      <td>...</td>\n",
              "      <td>12.40640</td>\n",
              "      <td>157.4628</td>\n",
              "      <td>8.5481</td>\n",
              "      <td>0.9835</td>\n",
              "      <td>31.595</td>\n",
              "      <td>6.7842</td>\n",
              "      <td>2.42955</td>\n",
              "      <td>3.6725</td>\n",
              "      <td>1.39655</td>\n",
              "      <td>1.0</td>\n",
              "    </tr>\n",
              "    <tr>\n",
              "      <th>5974</th>\n",
              "      <td>2018-04-27</td>\n",
              "      <td>115.0604</td>\n",
              "      <td>0.7545</td>\n",
              "      <td>0.376</td>\n",
              "      <td>66770.1562</td>\n",
              "      <td>0.1020</td>\n",
              "      <td>3.4670</td>\n",
              "      <td>1.3269</td>\n",
              "      <td>NaN</td>\n",
              "      <td>603.31</td>\n",
              "      <td>...</td>\n",
              "      <td>NaN</td>\n",
              "      <td>157.6459</td>\n",
              "      <td>8.6911</td>\n",
              "      <td>0.9907</td>\n",
              "      <td>31.617</td>\n",
              "      <td>6.7572</td>\n",
              "      <td>2.43120</td>\n",
              "      <td>3.6725</td>\n",
              "      <td>1.37685</td>\n",
              "      <td>1.0</td>\n",
              "    </tr>\n",
              "    <tr>\n",
              "      <th>5975</th>\n",
              "      <td>2018-04-30</td>\n",
              "      <td>114.8873</td>\n",
              "      <td>0.7570</td>\n",
              "      <td>0.376</td>\n",
              "      <td>68827.5000</td>\n",
              "      <td>0.1023</td>\n",
              "      <td>3.4805</td>\n",
              "      <td>1.3238</td>\n",
              "      <td>1.2836</td>\n",
              "      <td>605.74</td>\n",
              "      <td>...</td>\n",
              "      <td>12.43145</td>\n",
              "      <td>157.6459</td>\n",
              "      <td>8.6774</td>\n",
              "      <td>0.9894</td>\n",
              "      <td>31.510</td>\n",
              "      <td>6.7393</td>\n",
              "      <td>2.43190</td>\n",
              "      <td>3.6725</td>\n",
              "      <td>1.37250</td>\n",
              "      <td>1.0</td>\n",
              "    </tr>\n",
              "    <tr>\n",
              "      <th>5976</th>\n",
              "      <td>2018-05-01</td>\n",
              "      <td>NaN</td>\n",
              "      <td>0.7540</td>\n",
              "      <td>0.376</td>\n",
              "      <td>NaN</td>\n",
              "      <td>NaN</td>\n",
              "      <td>NaN</td>\n",
              "      <td>NaN</td>\n",
              "      <td>NaN</td>\n",
              "      <td>610.98</td>\n",
              "      <td>...</td>\n",
              "      <td>NaN</td>\n",
              "      <td>157.4737</td>\n",
              "      <td>NaN</td>\n",
              "      <td>NaN</td>\n",
              "      <td>NaN</td>\n",
              "      <td>6.7385</td>\n",
              "      <td>NaN</td>\n",
              "      <td>3.6725</td>\n",
              "      <td>1.36945</td>\n",
              "      <td>1.0</td>\n",
              "    </tr>\n",
              "    <tr>\n",
              "      <th>5977</th>\n",
              "      <td>2018-05-02</td>\n",
              "      <td>NaN</td>\n",
              "      <td>NaN</td>\n",
              "      <td>0.376</td>\n",
              "      <td>NaN</td>\n",
              "      <td>NaN</td>\n",
              "      <td>NaN</td>\n",
              "      <td>NaN</td>\n",
              "      <td>NaN</td>\n",
              "      <td>NaN</td>\n",
              "      <td>...</td>\n",
              "      <td>12.61265</td>\n",
              "      <td>NaN</td>\n",
              "      <td>NaN</td>\n",
              "      <td>NaN</td>\n",
              "      <td>NaN</td>\n",
              "      <td>NaN</td>\n",
              "      <td>NaN</td>\n",
              "      <td>3.6725</td>\n",
              "      <td>1.36535</td>\n",
              "      <td>1.0</td>\n",
              "    </tr>\n",
              "  </tbody>\n",
              "</table>\n",
              "<p>5 rows × 52 columns</p>\n",
              "</div>\n",
              "      <button class=\"colab-df-convert\" onclick=\"convertToInteractive('df-78b06847-8469-4814-b496-8b48e7649382')\"\n",
              "              title=\"Convert this dataframe to an interactive table.\"\n",
              "              style=\"display:none;\">\n",
              "        \n",
              "  <svg xmlns=\"http://www.w3.org/2000/svg\" height=\"24px\"viewBox=\"0 0 24 24\"\n",
              "       width=\"24px\">\n",
              "    <path d=\"M0 0h24v24H0V0z\" fill=\"none\"/>\n",
              "    <path d=\"M18.56 5.44l.94 2.06.94-2.06 2.06-.94-2.06-.94-.94-2.06-.94 2.06-2.06.94zm-11 1L8.5 8.5l.94-2.06 2.06-.94-2.06-.94L8.5 2.5l-.94 2.06-2.06.94zm10 10l.94 2.06.94-2.06 2.06-.94-2.06-.94-.94-2.06-.94 2.06-2.06.94z\"/><path d=\"M17.41 7.96l-1.37-1.37c-.4-.4-.92-.59-1.43-.59-.52 0-1.04.2-1.43.59L10.3 9.45l-7.72 7.72c-.78.78-.78 2.05 0 2.83L4 21.41c.39.39.9.59 1.41.59.51 0 1.02-.2 1.41-.59l7.78-7.78 2.81-2.81c.8-.78.8-2.07 0-2.86zM5.41 20L4 18.59l7.72-7.72 1.47 1.35L5.41 20z\"/>\n",
              "  </svg>\n",
              "      </button>\n",
              "      \n",
              "  <style>\n",
              "    .colab-df-container {\n",
              "      display:flex;\n",
              "      flex-wrap:wrap;\n",
              "      gap: 12px;\n",
              "    }\n",
              "\n",
              "    .colab-df-convert {\n",
              "      background-color: #E8F0FE;\n",
              "      border: none;\n",
              "      border-radius: 50%;\n",
              "      cursor: pointer;\n",
              "      display: none;\n",
              "      fill: #1967D2;\n",
              "      height: 32px;\n",
              "      padding: 0 0 0 0;\n",
              "      width: 32px;\n",
              "    }\n",
              "\n",
              "    .colab-df-convert:hover {\n",
              "      background-color: #E2EBFA;\n",
              "      box-shadow: 0px 1px 2px rgba(60, 64, 67, 0.3), 0px 1px 3px 1px rgba(60, 64, 67, 0.15);\n",
              "      fill: #174EA6;\n",
              "    }\n",
              "\n",
              "    [theme=dark] .colab-df-convert {\n",
              "      background-color: #3B4455;\n",
              "      fill: #D2E3FC;\n",
              "    }\n",
              "\n",
              "    [theme=dark] .colab-df-convert:hover {\n",
              "      background-color: #434B5C;\n",
              "      box-shadow: 0px 1px 3px 1px rgba(0, 0, 0, 0.15);\n",
              "      filter: drop-shadow(0px 1px 2px rgba(0, 0, 0, 0.3));\n",
              "      fill: #FFFFFF;\n",
              "    }\n",
              "  </style>\n",
              "\n",
              "      <script>\n",
              "        const buttonEl =\n",
              "          document.querySelector('#df-78b06847-8469-4814-b496-8b48e7649382 button.colab-df-convert');\n",
              "        buttonEl.style.display =\n",
              "          google.colab.kernel.accessAllowed ? 'block' : 'none';\n",
              "\n",
              "        async function convertToInteractive(key) {\n",
              "          const element = document.querySelector('#df-78b06847-8469-4814-b496-8b48e7649382');\n",
              "          const dataTable =\n",
              "            await google.colab.kernel.invokeFunction('convertToInteractive',\n",
              "                                                     [key], {});\n",
              "          if (!dataTable) return;\n",
              "\n",
              "          const docLinkHtml = 'Like what you see? Visit the ' +\n",
              "            '<a target=\"_blank\" href=https://colab.research.google.com/notebooks/data_table.ipynb>data table notebook</a>'\n",
              "            + ' to learn more about interactive tables.';\n",
              "          element.innerHTML = '';\n",
              "          dataTable['output_type'] = 'display_data';\n",
              "          await google.colab.output.renderOutput(dataTable, element);\n",
              "          const docLink = document.createElement('div');\n",
              "          docLink.innerHTML = docLinkHtml;\n",
              "          element.appendChild(docLink);\n",
              "        }\n",
              "      </script>\n",
              "    </div>\n",
              "  </div>\n",
              "  "
            ]
          },
          "metadata": {},
          "execution_count": 3
        }
      ]
    },
    {
      "cell_type": "code",
      "source": [
        "df_1 = pd.read_csv(\"kurs.csv\", parse_dates = [\"Date\"], usecols=['Date', 'Indonesian Rupiah', 'U.S. Dollar'])\n",
        "df_2 = pd.read_csv(\"kurs.csv\", parse_dates = [\"Date\"], usecols=['Date', 'Thai Baht', 'U.S. Dollar'])\n",
        "df_3 = pd.read_csv(\"kurs.csv\", parse_dates = [\"Date\"], usecols=['Date', 'South African Rand', 'U.S. Dollar'])\n",
        "df_4 = pd.read_csv(\"kurs.csv\", parse_dates = [\"Date\"], usecols=['Date', 'Euro', 'U.S. Dollar'])\n",
        "df_5 = pd.read_csv(\"kurs.csv\", parse_dates = [\"Date\"], usecols=['Date', 'Japanese Yen', 'U.S. Dollar'])\n",
        "\n",
        "df_1.rename(columns={'Indonesian Rupiah':'Rupiah'}, inplace=True)\n",
        "df_2.rename(columns={'Thai Baht':'Baht'}, inplace=True)\n",
        "df_3.rename(columns={'South African Rand':'Rand'}, inplace=True)\n",
        "df_5.rename(columns={'Japanese Yen':'Yen'}, inplace=True)\n",
        "\n",
        "df_1['Date'] = pd.to_datetime(df_1['Date'])\n",
        "df_2['Date'] = pd.to_datetime(df_2['Date'])\n",
        "df_3['Date'] = pd.to_datetime(df_3['Date'])\n",
        "df_4['Date'] = pd.to_datetime(df_4['Date'])\n",
        "df_5['Date'] = pd.to_datetime(df_5['Date'])"
      ],
      "metadata": {
        "id": "-RnaQqzeARI5"
      },
      "execution_count": 4,
      "outputs": []
    },
    {
      "cell_type": "code",
      "source": [
        "start_date = '01-01-2015'\n",
        "end_date = '01-01-2018'"
      ],
      "metadata": {
        "id": "SGz_C8O-ASgc"
      },
      "execution_count": 5,
      "outputs": []
    },
    {
      "cell_type": "code",
      "source": [
        "mask = (df_1['Date'] > start_date) & (df_1['Date'] <= end_date)\n",
        "\n",
        "df1 = df_1.loc[mask]\n",
        "df1.reset_index(drop=True, inplace=True)\n",
        "\n",
        "df2 = df_2.loc[mask]\n",
        "df2.reset_index(drop=True, inplace=True)\n",
        "\n",
        "df3 = df_3.loc[mask]\n",
        "df3.reset_index(drop=True, inplace=True)\n",
        "\n",
        "df4 = df_4.loc[mask]\n",
        "df4.reset_index(drop=True, inplace=True)\n",
        "\n",
        "df5 = df_5.loc[mask]\n",
        "df5.reset_index(drop=True, inplace=True)"
      ],
      "metadata": {
        "id": "m_visdy0ATn8"
      },
      "execution_count": 6,
      "outputs": []
    },
    {
      "cell_type": "code",
      "source": [
        "dfn_1 = df1.dropna()\n",
        "dfn_2 = df2.dropna()\n",
        "dfn_3 = df3.dropna()\n",
        "dfn_4 = df4.dropna()\n",
        "dfn_5 = df5.dropna()"
      ],
      "metadata": {
        "id": "nsg7v-xkAUmA"
      },
      "execution_count": 7,
      "outputs": []
    },
    {
      "cell_type": "code",
      "source": [
        "cds_rupiah = ColumnDataSource(dfn_1)\n",
        "cds_baht = ColumnDataSource(dfn_2)\n",
        "cds_rand = ColumnDataSource(dfn_3)\n",
        "cds_euro = ColumnDataSource(dfn_4)\n",
        "cds_yen = ColumnDataSource(dfn_5)"
      ],
      "metadata": {
        "id": "DeNKGVXFAVrb"
      },
      "execution_count": 8,
      "outputs": []
    },
    {
      "cell_type": "markdown",
      "source": [
        "**Figure Rupiah**"
      ],
      "metadata": {
        "id": "njuV9isNDT7b"
      }
    },
    {
      "cell_type": "code",
      "source": [
        "# Create a figure to display Rupiah Data\n",
        "fig_rupiah = figure(\n",
        "    x_axis_type='datetime',\n",
        "    x_axis_label='Date',\n",
        "    y_axis_label='Rupiah',\n",
        "    title='Rupiah Currency Value U.S Dollar Exchange Rate',\n",
        "    toolbar_location='below',\n",
        "    plot_height=600,\n",
        "    plot_width=800\n",
        ")\n",
        "\n",
        "#  To display the rupiah line plot\n",
        "z = fig_rupiah.line(\n",
        "    x='Date',\n",
        "    y='Rupiah',\n",
        "    source=cds_rupiah,\n",
        "    color='red',\n",
        "    legend_label='Indonesian Rupiah'\n",
        ")\n",
        "\n",
        "# Bokeh Library\n",
        "tooltips = [('Rupiah','@Rupiah')]\n",
        "\n",
        "# Added HoverTool to create fig\n",
        "fig_rupiah.add_tools(HoverTool(\n",
        "    tooltips=tooltips,\n",
        "    mode='vline'\n",
        "))\n",
        "\n",
        "# Rupiah Date Slider\n",
        "rupiah_date_slider = DateRangeSlider(value=(min(df1['Date']), max(df1['Date'])),\n",
        "                                    start=min(df1['Date']), end=max(df1['Date']))\n",
        "\n",
        "rupiah_date_slider.js_link(\"value\", fig_rupiah.x_range, \"start\", attr_selector=0)\n",
        "rupiah_date_slider.js_link(\"value\", fig_rupiah.x_range, \"end\", attr_selector=1)\n"
      ],
      "metadata": {
        "id": "d8fusaTR0HFy"
      },
      "execution_count": 9,
      "outputs": []
    },
    {
      "cell_type": "markdown",
      "source": [
        "**Figure Baht**"
      ],
      "metadata": {
        "id": "MpxOoU602GXB"
      }
    },
    {
      "cell_type": "code",
      "source": [
        "# Create a figure to display Baht Data\n",
        "fig_baht = figure(\n",
        "    x_axis_type='datetime',\n",
        "    x_axis_label='Date',\n",
        "    y_axis_label='Baht',\n",
        "    title='Baht Currency Value U.S Dollar Exchange Rate',\n",
        "    toolbar_location='below',\n",
        "    plot_height=600,\n",
        "    plot_width=800\n",
        ")\n",
        "\n",
        "#  To display the baht line plot\n",
        "z = fig_baht.line(\n",
        "    x='Date',\n",
        "    y='Baht',\n",
        "    source=cds_baht,\n",
        "    color='blue',\n",
        "    legend_label='Thailand Baht'\n",
        ")\n",
        "\n",
        "# Bokeh Library\n",
        "tooltips = [('Baht','@Baht')]\n",
        "\n",
        "# Added HoverTool to create fig\n",
        "fig_baht.add_tools(HoverTool(\n",
        "    tooltips=tooltips,\n",
        "    mode='vline'\n",
        "))\n",
        "\n",
        "# Baht Date Slider\n",
        "baht_date_slider = DateRangeSlider(value=(min(df2['Date']), max(df2['Date'])),\n",
        "                                    start=min(df2['Date']), end=max(df2['Date']))\n",
        "\n",
        "baht_date_slider.js_link(\"value\", fig_baht.x_range, \"start\", attr_selector=0)\n",
        "baht_date_slider.js_link(\"value\", fig_baht.x_range, \"end\", attr_selector=1)"
      ],
      "metadata": {
        "id": "xFxxNW4A2Fp3"
      },
      "execution_count": 10,
      "outputs": []
    },
    {
      "cell_type": "markdown",
      "source": [
        "**Figure Rand**"
      ],
      "metadata": {
        "id": "7FTvQWfM_Nc9"
      }
    },
    {
      "cell_type": "code",
      "source": [
        "# Create a figure to display Rand Data\n",
        "fig_rand = figure(\n",
        "    x_axis_type='datetime',\n",
        "    x_axis_label='Date',\n",
        "    y_axis_label='Rand',\n",
        "    title='Rand Currency Value U.S Dollar Exchange Rate',\n",
        "    toolbar_location='below',\n",
        "    plot_height=600,\n",
        "    plot_width=800\n",
        ")\n",
        "\n",
        "#  To display the rand line plot\n",
        "z = fig_rand.line(\n",
        "    x='Date',\n",
        "    y='Rand',\n",
        "    source=cds_rand,\n",
        "    color='green',\n",
        "    legend_label='South African Rand'\n",
        ")\n",
        "\n",
        "# Bokeh Library\n",
        "tooltips = [('Rand','@Rand')]\n",
        "\n",
        "# Added HoverTool to create fig\n",
        "fig_rand.add_tools(HoverTool(\n",
        "    tooltips=tooltips,\n",
        "    mode='vline'\n",
        "))\n",
        "\n",
        "# Rand Date Slider\n",
        "rand_date_slider = DateRangeSlider(value=(min(df3['Date']), max(df3['Date'])),\n",
        "                                    start=min(df3['Date']), end=max(df3['Date']))\n",
        "\n",
        "rand_date_slider.js_link(\"value\", fig_rand.x_range, \"start\", attr_selector=0)\n",
        "rand_date_slider.js_link(\"value\", fig_rand.x_range, \"end\", attr_selector=1)"
      ],
      "metadata": {
        "id": "st3BNe3l_Qh9"
      },
      "execution_count": 11,
      "outputs": []
    },
    {
      "cell_type": "markdown",
      "source": [
        "**Figure Euro**"
      ],
      "metadata": {
        "id": "_txr8mqGhzov"
      }
    },
    {
      "cell_type": "code",
      "source": [
        "# Create a figure to display Euro Data\n",
        "fig_euro = figure(\n",
        "    x_axis_type='datetime',\n",
        "    x_axis_label='Date',\n",
        "    y_axis_label='Euro',\n",
        "    title='Euro Currency Value U.S Dollar Exchange Rate',\n",
        "    toolbar_location='below',\n",
        "    plot_height=600,\n",
        "    plot_width=800\n",
        ")\n",
        "\n",
        "# To display the euro line plot\n",
        "zip = fig_euro.line(\n",
        "    x='Date',\n",
        "    y='Euro',\n",
        "    source=cds_euro,\n",
        "    color='orange',\n",
        "    legend_label='Euro'\n",
        ")\n",
        "\n",
        "# Bokeh Library\n",
        "tooltips = [('Euro','@Euro')]\n",
        "\n",
        "# Added HoverTool to create fig\n",
        "fig_euro.add_tools(HoverTool(tooltips=tooltips, mode='vline'))\n",
        "\n",
        "# Euro Date Slider\n",
        "euro_date_slider = DateRangeSlider(value=(min(df4['Date']), max(df4['Date'])),\n",
        "                                    start=min(df4['Date']), end=max(df4['Date']))\n",
        "\n",
        "euro_date_slider.js_link(\"value\", fig_euro.x_range, \"start\", attr_selector=0)\n",
        "euro_date_slider.js_link(\"value\", fig_euro.x_range, \"end\", attr_selector=1)"
      ],
      "metadata": {
        "id": "0WV1hP9uh05n"
      },
      "execution_count": 12,
      "outputs": []
    },
    {
      "cell_type": "markdown",
      "source": [
        "**Figure Yen**"
      ],
      "metadata": {
        "id": "C8IxSFo-DWN-"
      }
    },
    {
      "cell_type": "code",
      "source": [
        "# Create a figure to display Yen Data\n",
        "fig_yen = figure(\n",
        "    x_axis_type='datetime',\n",
        "    x_axis_label='Date',\n",
        "    y_axis_label='Yen',\n",
        "    title='Yen Currency Value U.S Dollar Exchange Rate',\n",
        "    toolbar_location='below',\n",
        "    plot_height=600,\n",
        "    plot_width=800\n",
        ")\n",
        "\n",
        "# To display the yen line plot\n",
        "z = fig_yen.line(\n",
        "    x='Date',\n",
        "    y='Yen',\n",
        "    source=cds_yen,\n",
        "    color='purple',\n",
        "    legend_label='Japanese Yen'\n",
        ")\n",
        "\n",
        "# Bokeh Library\n",
        "tooltips = [('Yen','@Yen')]\n",
        "\n",
        "# Added HoverTool to create fig\n",
        "fig_yen.add_tools(HoverTool(\n",
        "    tooltips=tooltips,\n",
        "    mode='vline'\n",
        "))\n",
        "\n",
        "# Yen Date Slider\n",
        "yen_date_slider = DateRangeSlider(value=(min(df5['Date']), max(df5['Date'])),\n",
        "                                    start=min(df5['Date']), end=max(df5['Date']))\n",
        "\n",
        "yen_date_slider.js_link(\"value\", fig_yen.x_range, \"start\", attr_selector=0)\n",
        "yen_date_slider.js_link(\"value\", fig_yen.x_range, \"end\", attr_selector=1)"
      ],
      "metadata": {
        "id": "c7T89z8H0gsr"
      },
      "execution_count": 13,
      "outputs": []
    },
    {
      "cell_type": "code",
      "source": [
        "# Outputs to HTML Plots\n",
        "output_file('Kelompok Afkar & Diva.html', title='Currency Exchange Rates of Five Countries Against the US Dollar')\n",
        "\n",
        "rupiah_tools = column(rupiah_date_slider)\n",
        "baht_tools = column(baht_date_slider)\n",
        "rand_tools = column(rand_date_slider)\n",
        "euro_tools = column(euro_date_slider)\n",
        "yen_tools = column(yen_date_slider)\n",
        "\n",
        "rupiah_layout = row([fig_rupiah, rupiah_tools])\n",
        "baht_layout = row([fig_baht, baht_tools])\n",
        "rand_layout = row([fig_rand, rand_tools])\n",
        "euro_layout = row([fig_euro, euro_tools])\n",
        "yen_layout = row([fig_yen, yen_tools])\n",
        "\n",
        "# Create five panels namely Rupiah, Baht, Real, Euro, Yen\n",
        "rupiah_tab = Panel(child=rupiah_layout, title='Rupiah')\n",
        "baht_tab = Panel(child=baht_layout, title='Baht')\n",
        "rand_tab = Panel(child=rand_layout, title='Rand')\n",
        "euro_tab = Panel(child=euro_layout, title='Euro')\n",
        "yen_tab = Panel(child=yen_layout, title='Yen')\n",
        "\n",
        "tabs = Tabs(tabs=[rupiah_tab, baht_tab, rand_tab, euro_tab, yen_tab])\n",
        "\n",
        "show(tabs)"
      ],
      "metadata": {
        "id": "Wd7cgUN2zsza"
      },
      "execution_count": 14,
      "outputs": []
    }
  ]
}